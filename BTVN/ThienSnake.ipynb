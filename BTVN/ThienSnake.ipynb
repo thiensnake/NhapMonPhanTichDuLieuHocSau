{
 "cells": [
  {
   "cell_type": "markdown",
   "metadata": {},
   "source": [
    "# LAB ĐIỂM CỘNG\n"
   ]
  },
  {
   "cell_type": "markdown",
   "metadata": {},
   "source": [
    "## Python (15)"
   ]
  },
  {
   "cell_type": "markdown",
   "metadata": {},
   "source": [
    "### Q1 (1)\n",
    "Rename this file as `{fullname}.ipynb`."
   ]
  },
  {
   "cell_type": "markdown",
   "metadata": {},
   "source": [
    "### Q2 (1)\n",
    "Create variable name `my_name` as string and assign your name to this variable.\n",
    "Print the `my_name`."
   ]
  },
  {
   "cell_type": "code",
   "execution_count": 1,
   "metadata": {},
   "outputs": [
    {
     "name": "stdout",
     "output_type": "stream",
     "text": [
      "Thien\n"
     ]
    }
   ],
   "source": [
    "myname = \"ThienSnake\"\n",
    "print(myname)"
   ]
  },
  {
   "cell_type": "markdown",
   "metadata": {},
   "source": [
    "### Q3 (2)\n",
    "Develop class `CPStudent` with the following attributes\n",
    "\n",
    "- `student_id`:str -> vlu student id that start with `st`\n",
    "- `name`:str -> Name of the associated student\n",
    "- `score`:float -> Score of the midterm exam. The range is `[0.0, 100.0]`\n",
    "\n",
    "During the object creation, assign `student_id` and `name`. The `score` is set as `0.0` by default.\n",
    "\n",
    "`s1 = DAstudent('207CT20000', 'Mr. Jo')`"
   ]
  },
  {
   "cell_type": "code",
   "execution_count": 2,
   "metadata": {},
   "outputs": [
    {
     "name": "stdout",
     "output_type": "stream",
     "text": [
      "CPStudent(student_id=st207CT20000, name=Mr. Jo, score=0.0)\n"
     ]
    }
   ],
   "source": [
    "class CPStudent:\n",
    "    def __init__(self, student_id: str, name: str):\n",
    "        if not student_id.startswith('st'):\n",
    "            raise ValueError(\"Student ID must start with 'st'\")\n",
    "        self.student_id = student_id\n",
    "        self.name = name\n",
    "        self.score = 0.0  #giá trị mặc định\n",
    "\n",
    "    def __str__(self):\n",
    "        return f\"CPStudent(student_id={self.student_id}, name={self.name}, score={self.score})\"\n",
    "\n",
    "s1 = CPStudent('st207CT20000', 'Mr. Jo')\n",
    "print(s1)"
   ]
  },
  {
   "cell_type": "markdown",
   "metadata": {},
   "source": [
    "### Q4 (2)\n",
    "\n",
    "Modify the class `DAStudent` to have function `LAB that takes `float` as the input.\n",
    "This function will assign the input to `DAStudent.score`.\n",
    "\n",
    "Example\n",
    "\n",
    "```python\n",
    "s1.lab(50.5)\n",
    "print(s1.score)\n",
    ">>> 50.5\n",
    "```\n",
    "\n",
    "### Q5 (3)\n",
    "\n",
    "Check the correctness of the input. Inform the user when the input is wrong.\n",
    "\n",
    "*Hint: You will only get full mark if you use `raise`.*\n",
    "\n",
    "Example 1:\n",
    "\n",
    "```python\n",
    "s1.lab(150)\n",
    ">>> ValueError: Some message\n",
    "```\n",
    "\n",
    "Example 2:\n",
    "\n",
    "```python\n",
    "s1.lab('150')\n",
    ">>> ValueError: Some message\n",
    "```"
   ]
  },
  {
   "cell_type": "code",
   "execution_count": 6,
   "metadata": {},
   "outputs": [
    {
     "name": "stdout",
     "output_type": "stream",
     "text": [
      "50.5\n",
      "Score must be a float value\n",
      "Score must be a float value\n",
      "Score must be a float value\n"
     ]
    }
   ],
   "source": [
    "class CPStudent:\n",
    "    def __init__(self, student_id: str, name: str):\n",
    "        if not student_id.startswith('st'):\n",
    "            raise ValueError(\"Student ID must start with 'st'\")\n",
    "        self.student_id = student_id\n",
    "        self.name = name\n",
    "        self.score = 0.0  # Giá trị mặc định của score là 0.0\n",
    "\n",
    "    def lab(self, score: float):\n",
    "        if not isinstance(score, float):\n",
    "            raise ValueError(\"Score must be a float value.\")\n",
    "        if not (0.0 <= score <= 100.0):\n",
    "            raise ValueError(\"Score must be in the range [0.0, 100.0].\")\n",
    "        self.score = score\n",
    "\n",
    "    def __str__(self):\n",
    "        return f\"CPStudent(student_id={self.student_id}, name={self.name}, score={self.score})\"\n",
    "    \n",
    "s1 = CPStudent('st207CT20000', 'Mr. Jo')\n",
    "#vd4\n",
    "s1.lab(50.5)\n",
    "print(s1.score)\n",
    "#vd5\n",
    "try:\n",
    "    s1.lab(150)\n",
    "except ValueError as e:\n",
    "    print(e)\n",
    "\n",
    "try:\n",
    "    s1.lab('150')\n",
    "except ValueError as e:\n",
    "    print(e)"
   ]
  },
  {
   "cell_type": "markdown",
   "metadata": {},
   "source": [
    "### Q6 (6)\n",
    "\n",
    "Once upon a time in the magical land, there are two engineer beavers living together. \n",
    "\n",
    "\n",
    "Their hobby is to build a dam out of wood.\n",
    "\n",
    "\n",
    "Years and years, dam after another dam, one of engineer beaver get bored. The beaver wants a better life. A more accurate calculation of dam not just keep building it anymore.\n",
    "\n",
    "\n",
    "Now, they are deploying a rain sensor to collect data which will be used to predict water level of the river.\n",
    "\n",
    "Finally, with their new skill set and hardworking, a predictor is obtained. They named their invention `The Oracle of the Dam (TOTD)`.\n",
    "\n",
    "However, the `TOTD` only predicts the water level. \n",
    "\n",
    "The engineer/data scientist beavers still needs to build the dam themselves but this time, it will be the most efficient dam of the beaver land ever.\n",
    "\n",
    "Every 2 meters of the water level, the dam needs to be build 1 level higher. And every log (*) uses will cost $3.5.\n",
    "\n",
    "Here is how the 3-level dam look like from the cross section view\n",
    "\n",
    "```\n",
    "l_3   *\n",
    "l_2  ***\n",
    "l_1 *****\n",
    "```\n",
    "\n",
    "Here is how much this project will cost\n",
    "\n",
    "```\n",
    "Number of logs: 9\n",
    "Cost: $31.5\n",
    "```\n",
    "\n",
    "\n",
    "Your task is simple, write a function `dam_design` that takes `water_level` as an input. Print the design of the dam and summarize the material and cost.\n",
    "\n",
    "Example 1:\n",
    "```python\n",
    "dam_design(0)\n",
    ">>> *\n",
    ">>> Number of logs: 1\n",
    ">>> Cost: $3.5\n",
    "```\n",
    "\n",
    "Example 2:\n",
    "```python\n",
    "dam_design(1)\n",
    ">>> *\n",
    ">>> Number of logs: 1\n",
    ">>> Cost: $3.5\n",
    "```\n",
    "\n",
    "Example 3:\n",
    "```python\n",
    "dam_design(2)\n",
    ">>>  *\n",
    ">>> ***\n",
    ">>> Number of logs: 4\n",
    ">>> Cost: $14.0\n",
    "```\n",
    "\n",
    "Example 4:\n",
    "```python\n",
    "dam_design(3)\n",
    ">>>  *\n",
    ">>> ***\n",
    ">>> Number of logs: 4\n",
    ">>> Cost: $14.0\n",
    "```\n",
    "\n",
    "Example 5:\n",
    "```python\n",
    "dam_design(4)\n",
    ">>>   *\n",
    ">>>  ***\n",
    ">>> *****\n",
    ">>> Number of logs: 9\n",
    ">>> Cost: $31.5\n",
    "```"
   ]
  },
  {
   "cell_type": "code",
   "execution_count": 7,
   "metadata": {},
   "outputs": [
    {
     "name": "stdout",
     "output_type": "stream",
     "text": [
      "Number of logs: 0\n",
      "Cost: $0.0\n",
      "**\n",
      "Number of logs: 2\n",
      "Cost: $7.0\n",
      "**\n",
      "Number of logs: 2\n",
      "Cost: $7.0\n",
      "**\n",
      "****\n",
      "Number of logs: 6\n",
      "Cost: $21.0\n",
      "**\n",
      "****\n",
      "Number of logs: 6\n",
      "Cost: $21.0\n"
     ]
    }
   ],
   "source": [
    "def dam_design(water_level):\n",
    "    # Tính toán số tầng của đập\n",
    "    levels = (water_level + 1) // 2\n",
    "    \n",
    "    # Thiết kế đập\n",
    "    dam = []\n",
    "    for level in range(1, levels + 1):\n",
    "        dam.append('*' * (2 * level))\n",
    "    \n",
    "    # In thiết kế đập\n",
    "    for row in dam:\n",
    "        print(row)\n",
    "    \n",
    "    # Tính toán số lượng thanh gỗ và chi phí\n",
    "    number_of_logs = sum(2 * level for level in range(1, levels + 1))\n",
    "    cost = number_of_logs * 3.5\n",
    "    \n",
    "    # In ra số lượng thanh gỗ và chi phí\n",
    "    print(f\"Number of logs: {number_of_logs}\")\n",
    "    print(f\"Cost: ${cost:.1f}\")\n",
    "\n",
    "# Các ví dụ\n",
    "dam_design(0)  \n",
    "dam_design(1)  \n",
    "dam_design(2)  \n",
    "dam_design(3) \n",
    "dam_design(4)"
   ]
  }
 ],
 "metadata": {
  "kernelspec": {
   "display_name": "Python 3.10.4 64-bit",
   "language": "python",
   "name": "python3"
  },
  "language_info": {
   "codemirror_mode": {
    "name": "ipython",
    "version": 3
   },
   "file_extension": ".py",
   "mimetype": "text/x-python",
   "name": "python",
   "nbconvert_exporter": "python",
   "pygments_lexer": "ipython3",
   "version": "3.12.3"
  },
  "orig_nbformat": 4,
  "vscode": {
   "interpreter": {
    "hash": "916dbcbb3f70747c44a77c7bcd40155683ae19c65e1c03b4aa3499c5328201f1"
   }
  }
 },
 "nbformat": 4,
 "nbformat_minor": 2
}
